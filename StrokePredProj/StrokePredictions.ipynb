{
  "nbformat": 4,
  "nbformat_minor": 0,
  "metadata": {
    "colab": {
      "provenance": []
    },
    "kernelspec": {
      "name": "python3",
      "display_name": "Python 3"
    },
    "language_info": {
      "name": "python"
    }
  },
  "cells": [
    {
      "cell_type": "code",
      "execution_count": null,
      "metadata": {
        "id": "GY9HJvzXoIze"
      },
      "outputs": [],
      "source": [
        "import pandas as pd\n",
        "import matplotlib.pyplot as plt\n",
        "import numpy as np\n",
        "from sklearn.preprocessing import StandardScaler\n",
        "from sklearn.preprocessing import LabelEncoder\n",
        "from sklearn.metrics import accuracy_score, f1_score, roc_curve, classification_report\n",
        "df = pd.read_csv(\"/content/drive/MyDrive/healthcare-dataset-stroke-data.csv\")"
      ]
    },
    {
      "cell_type": "code",
      "source": [
        "df['bmi'] = df['bmi'].apply(lambda x: 45 if x>45 else x)\n",
        "df['avg_glucose_level'] = df['avg_glucose_level'].apply(lambda x: 160 if x>160 else x)"
      ],
      "metadata": {
        "id": "OHNWpchUrYn5"
      },
      "execution_count": null,
      "outputs": []
    },
    {
      "cell_type": "code",
      "source": [
        "#Fill in null values in BMI with median \n",
        "df['bmi'] = df['bmi'].fillna(df['bmi'].median())"
      ],
      "metadata": {
        "id": "-kcHodemISYu"
      },
      "execution_count": null,
      "outputs": []
    },
    {
      "cell_type": "code",
      "source": [
        "#Transform object values to numeric to fit in data\n",
        "le = LabelEncoder()\n",
        "\n",
        "for i in df.columns[1:]:\n",
        "  if(df[i].dtype == 'object'):\n",
        "    df[i]=le.fit_transform(df[i])"
      ],
      "metadata": {
        "id": "8rrwwdt8Iye7"
      },
      "execution_count": null,
      "outputs": []
    },
    {
      "cell_type": "code",
      "source": [
        "#Standardize the data before feeding to algorithm\n",
        "scaler = StandardScaler()\n",
        "df[['age', 'avg_glucose_level','bmi']] = scaler.fit_transform(df[['age','avg_glucose_level','bmi']])"
      ],
      "metadata": {
        "id": "YAmqM28sQln6"
      },
      "execution_count": null,
      "outputs": []
    },
    {
      "cell_type": "code",
      "source": [
        "#standardize data part 2\n",
        "df[['age', 'avg_glucose_level', 'bmi']] = df[['age', 'avg_glucose_level', 'bmi']].apply(lambda x: x/x.max(), axis=0)"
      ],
      "metadata": {
        "id": "Z65MnLKMRAIY"
      },
      "execution_count": null,
      "outputs": []
    },
    {
      "cell_type": "code",
      "source": [
        "x = df.drop(['id'], axis=1)\n",
        "y = df['stroke']"
      ],
      "metadata": {
        "id": "EM7BCGRntBaP"
      },
      "execution_count": null,
      "outputs": []
    },
    {
      "cell_type": "code",
      "source": [
        "#split data into training and testing\n",
        "from sklearn.model_selection import train_test_split\n",
        "X_train, X_test, y_train, y_test = train_test_split( x, y, test_size=0.20, random_state=0)"
      ],
      "metadata": {
        "id": "S4PNraNHo-xJ"
      },
      "execution_count": null,
      "outputs": []
    },
    {
      "cell_type": "code",
      "source": [
        "#Handling imbalance dataset using SMOTE\n",
        "from imblearn.over_sampling import SMOTE\n",
        "sm = SMOTE(random_state = 2)\n",
        "X_train_res, y_train_res = sm.fit_resample(X_train, y_train.ravel())\n",
        "print('After OverSampling, the shape of train_X:{}'.format(X_train_res.shape))\n",
        "print('After OverSampling, the shape of train_y: {}\\n'.format(y_train_res.shape))\n",
        "print(\"After OverSampling, counts of label '1':{}\".format(sum(y_train_res == 1)))\n",
        "print(\"After OverSampling, counts of label '0':{}\".format(sum(y_train_res == 0)))\n",
        "\n"
      ],
      "metadata": {
        "colab": {
          "base_uri": "https://localhost:8080/"
        },
        "id": "EPvyR9YdtXvE",
        "outputId": "fad5a0ca-1c4f-4783-c625-a61943d07718"
      },
      "execution_count": null,
      "outputs": [
        {
          "output_type": "stream",
          "name": "stdout",
          "text": [
            "After OverSampling, the shape of train_X:(7786, 11)\n",
            "After OverSampling, the shape of train_y: (7786,)\n",
            "\n",
            "After OverSampling, counts of label '1':3893\n",
            "After OverSampling, counts of label '0':3893\n"
          ]
        }
      ]
    },
    {
      "cell_type": "code",
      "source": [
        "#Building Logistric regression Model\n",
        "from sklearn.linear_model import LogisticRegression\n",
        "from sklearn.metrics import confusion_matrix, roc_auc_score, roc_curve, classification_report, precision_recall_curve\n",
        "\n",
        "lr1 = LogisticRegression()\n",
        "lr1.fit(X_train_res, y_train_res)\n",
        "ypredTest = lr1.predict(X_test)\n",
        "LogisticRegs, LogisticRegt, _ = roc_curve(y_test, ypredTest)\n",
        "accuracyTest = accuracy_score(y_test, ypredTest)\n",
        "print(\"accuracy for model on testing data is:\", accuracyTest.round(4))\n",
        "ypredTrain = lr1.predict(X_train_res)\n",
        "accuracyTrain = accuracy_score(y_train_res, ypredTrain)\n",
        "#print(\"accuracy for model on training data is:\", accuracyTrain.round(2))\n",
        "\n",
        "auc_roc = roc_auc_score(y_test, ypredTest)\n",
        "print('AUC-ROC score:', auc_roc)\n",
        "\n",
        "f_score = f1_score(y_test, ypredTest)\n",
        "print('F-score :', f_score)"
      ],
      "metadata": {
        "id": "MtadueDjxRXu",
        "colab": {
          "base_uri": "https://localhost:8080/"
        },
        "outputId": "acb70620-af3a-4f34-8cc2-9ce6b89185fc"
      },
      "execution_count": null,
      "outputs": [
        {
          "output_type": "stream",
          "name": "stdout",
          "text": [
            "accuracy for model on testing data is: 1.0\n",
            "AUC-ROC score: 1.0\n",
            "F-score : 1.0\n"
          ]
        }
      ]
    },
    {
      "cell_type": "code",
      "source": [
        "#week 7: slide 94 Builing Naive Bayes Model\n",
        "from sklearn.naive_bayes import GaussianNB\n",
        "\n",
        "nb = GaussianNB();\n",
        "nb.fit(X_train, y_train)\n",
        "y_predNB = nb.predict(X_test)\n",
        "\n",
        "accuracyTest2 = accuracy_score(y_test, y_predNB)\n",
        "print(\"accuracy for model on testing data is:\", accuracyTest2.round(2))\n",
        "NaiveBr, NaiveBm, _ = roc_curve(y_test, y_predNB)\n",
        "y_predTrain2 = nb.predict(X_train_res)\n",
        "accuracyTrain2 = accuracy_score(y_train_res, y_predTrain2)\n",
        "#print(\"accuracy for model on training data is:\", accuracyTrain2.round(2))\n",
        "f2_score = f1_score(y_test, y_predNB)\n",
        "print('F-score:', f2_score)\n",
        "auc_roc2 = roc_auc_score(y_test, y_predNB)\n",
        "print('AUC-ROC score:', auc_roc2)"
      ],
      "metadata": {
        "id": "2zx2gz2nykTI",
        "colab": {
          "base_uri": "https://localhost:8080/"
        },
        "outputId": "9c5f0870-86b9-4304-fcff-ef0ab83936f6"
      },
      "execution_count": null,
      "outputs": [
        {
          "output_type": "stream",
          "name": "stdout",
          "text": [
            "accuracy for model on testing data is: 1.0\n",
            "F-score: 1.0\n",
            "AUC-ROC score: 1.0\n"
          ]
        }
      ]
    },
    {
      "cell_type": "code",
      "source": [
        "#build K nearest neighbors model\n",
        "from sklearn.neighbors import KNeighborsClassifier\n",
        "kn = KNeighborsClassifier(n_neighbors = 5)\n",
        "kn.fit(X_train_res, y_train_res)\n",
        "y_predKNN = kn.predict(X_test)\n",
        "KNearr, KNeart, _ = roc_curve(y_test, y_predKNN)\n",
        "accuracyTest3 = accuracy_score(y_test, y_predKNN)\n",
        "print(\"accuracy for model on testing data is:\", accuracyTest3.round(3))\n",
        "\n",
        "ypredTrain3 = kn.predict(X_train_res)\n",
        "accuracyTrain3 = accuracy_score(y_train_res, ypredTrain3)\n",
        "#print(\"accuracy for model on training data is:\", accuracyTrain3.round(3))\n",
        "\n",
        "f3_score = f1_score(y_test, y_predKNN)\n",
        "auc_roc3 = roc_auc_score(y_test, y_predKNN)\n",
        "print('AUC-ROC:', auc_roc3)\n",
        "print('F-score:', f3_score)"
      ],
      "metadata": {
        "colab": {
          "base_uri": "https://localhost:8080/"
        },
        "id": "NzUoXyVYuc2M",
        "outputId": "f34a0b02-0dda-4654-bf69-6b967febfba6"
      },
      "execution_count": null,
      "outputs": [
        {
          "output_type": "stream",
          "name": "stdout",
          "text": [
            "accuracy for model on testing data is: 0.99\n",
            "AUC-ROC: 0.9336355984083256\n",
            "F-score: 0.9038461538461539\n"
          ]
        }
      ]
    },
    {
      "cell_type": "code",
      "source": [
        "from sklearn.svm import SVC\n",
        "\n",
        "#Create a svm Classifier\n",
        "clf = SVC()\n",
        "#Train the model using the training sets\n",
        "clf.fit(X_train_res, y_train_res)\n",
        "\n",
        "\n",
        "y_predSVM = clf.predict(X_test)\n",
        "SVectorr, SVectort, _ = roc_curve(y_test, y_predSVM)\n",
        "accuracyTest4 = accuracy_score(y_test, y_predSVM)\n",
        "print(\"accuracy for model on testing data is:\", accuracyTest4.round(2))\n",
        "\n",
        "ypredTrain4 = clf.predict(X_train_res)\n",
        "accuracyTrain4 = accuracy_score(y_train_res, ypredTrain4)\n",
        "#print(\"accuracy for model on training data is:\", accuracyTrain4.round(2))\n",
        "\n",
        "f4_score = f1_score(y_test, y_predSVM)\n",
        "auc_roc4 = roc_auc_score(y_test, y_predSVM)\n",
        "print('AUC-ROC score:', auc_roc4)\n",
        "print('F-score:', f4_score)"
      ],
      "metadata": {
        "colab": {
          "base_uri": "https://localhost:8080/"
        },
        "id": "upUaFxCuvkY-",
        "outputId": "9d93cd8f-fb68-48e9-f084-f384e5fd1b7a"
      },
      "execution_count": null,
      "outputs": [
        {
          "output_type": "stream",
          "name": "stdout",
          "text": [
            "accuracy for model on testing data is: 1.0\n",
            "AUC-ROC score: 1.0\n",
            "F-score: 1.0\n"
          ]
        }
      ]
    },
    {
      "cell_type": "code",
      "source": [
        "plt.plot(LogisticRegs, LogisticRegt,linestyle=\"--\", color='blue', label='Logistic Regression')\n",
        "plt.plot(NaiveBr,NaiveBm,linestyle=\"--\",color='orange', label=\"Naive Bayes\")\n",
        "plt.plot(KNearr,KNeart,linestyle=\"--\",color='red', label=\"K Neareast\")\n",
        "plt.plot(SVectorr,SVectort,linestyle=\"--\",color='green' ,label=\"Support Vector Machine\")\n",
        "\n",
        "plt.plot([0, 1], [0, 1], 'k--')\n",
        "plt.xlabel('False Positive Rate')\n",
        "plt.ylabel('True Positive Rate')\n",
        "plt.title('ROC Curve')\n",
        "plt.legend(loc='best')\n",
        "plt.savefig('ROC',dpi=300)\n",
        "plt.show()"
      ],
      "metadata": {
        "colab": {
          "base_uri": "https://localhost:8080/",
          "height": 295
        },
        "id": "ZiuwMjRI3ntR",
        "outputId": "9d17e462-0fc8-4cf7-aa91-77ec22afd50f"
      },
      "execution_count": null,
      "outputs": [
        {
          "output_type": "display_data",
          "data": {
            "text/plain": [
              "<Figure size 432x288 with 1 Axes>"
            ],
            "image/png": "[encoded data removed]"
          },
          "metadata": {
            "needs_background": "light"
          }
        }
      ]
    },
    {
      "cell_type": "markdown",
      "source": [
        "Based on our ROC curve for all models, we can highlight that all of our 4 models using: K-Nearest Neighbor, Logistic Regression, SVM, and Naive Bayes is efficient for classification models. In an exception of K Nearest, the rest of the model informed us that they have an accurate predicting results of distinguishing between patients' with stroke or no stroke. Therefore, is very important to standardize our data before began fitting into testing and training. "
      ],
      "metadata": {
        "id": "PdPkecR_Yg8J"
      }
    }
  ]
}